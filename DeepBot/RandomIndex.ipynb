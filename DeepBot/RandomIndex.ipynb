{
 "cells": [
  {
   "cell_type": "code",
   "execution_count": 1,
   "metadata": {},
   "outputs": [],
   "source": [
    "#En este notebook se mezclan los datos para generar las entradas de la red neuronal.\n",
    "import numpy as np\n",
    "import pickle"
   ]
  },
  {
   "cell_type": "code",
   "execution_count": 2,
   "metadata": {},
   "outputs": [],
   "source": [
    "#carga los archivos dados los parámetros\n",
    "def load_files(path,player,winner,index):\n",
    "    with open(path+player+'_'+winner+'_'+str(index)+'.pkl', 'rb') as infile:\n",
    "        data = np.array(pickle.load(infile),dtype=np.uint8)\n",
    "    return data"
   ]
  },
  {
   "cell_type": "code",
   "execution_count": 3,
   "metadata": {},
   "outputs": [],
   "source": [
    "# mezcla los datos estableciendo entradas donde gana las blancas o las negras, estas se ponen de manera aleatoria\n",
    "# los valores de y corresponden a cual es beneficioso para las blancas, si es 1 corresponde a la entrada izquierda y si es 0 a la entrada derecha\n",
    "# para las negras es la contraparte, si el resultado de y es 0 les beneficia la izquierda y 1 la derecha\n",
    "def merge_data(white,black):\n",
    "    size=white.shape[0]\n",
    "    r = np.random.choice([True, False], size)\n",
    "    x1_ = np.ones([size,1]).astype(int)\n",
    "    x2_ = np.zeros([size,1]).astype(int)\n",
    "    r=r.reshape(size,1)\n",
    "    \n",
    "    original_shape=list(white[0].shape)\n",
    "    new_shape=np.concatenate(([size,1],original_shape)).astype(int)\n",
    "\n",
    "    white=white.reshape([size,int(np.prod(original_shape))])\n",
    "    black=black.reshape([size,int(np.prod(original_shape))])\n",
    "    x1=np.where(r, white, black)\n",
    "    x2=np.where(r, black, white)\n",
    "\n",
    "    #para las blancas, 1 -> izquierda y 0-> derecha\n",
    "    y=np.where(r, x1_, x2_)\n",
    "    \n",
    "    x1=x1.reshape(new_shape)\n",
    "    x2=x2.reshape(new_shape)\n",
    "    x = np.concatenate((x1,x2),axis=1)\n",
    "    return x,y"
   ]
  },
  {
   "cell_type": "code",
   "execution_count": null,
   "metadata": {},
   "outputs": [],
   "source": [
    "def all_random_permutation(lista):\n",
    "    res=np.zeros([len(lista)*len(lista),2])\n",
    "    i=0\n",
    "    for val_i in lista:\n",
    "        for val_j in lista:\n",
    "            res[i]=[val_i, val_j]\n",
    "            i+=1\n",
    "    indices = np.random.permutation(res.shape[0])\n",
    "    return res[indices].astype(int)"
   ]
  },
  {
   "cell_type": "code",
   "execution_count": 4,
   "metadata": {},
   "outputs": [],
   "source": [
    "#desordena los índices\n",
    "def shuffle_data(x,y):\n",
    "    indices = np.random.permutation(y.shape[0])\n",
    "    return x[indices],y[indices]\n",
    "    "
   ]
  },
  {
   "cell_type": "code",
   "execution_count": 5,
   "metadata": {},
   "outputs": [],
   "source": [
    "#Separa los datos en conjunto de entrenamiento y validación\n",
    "def split_data(x,y,size_t=1/2):\n",
    "    size_t=int(len(y)*size_t)\n",
    "    x_train, x_test = x[:size_t,:], x[size_t:,:]\n",
    "    y_train, y_test = y[:size_t,:], y[size_t:,:]\n",
    "    return x_train,x_test,y_train,y_test"
   ]
  },
  {
   "cell_type": "code",
   "execution_count": 6,
   "metadata": {},
   "outputs": [],
   "source": [
    "#Permine intercambiar los valores del dataset, es decir, si antes havia una tupla con [blanca, negra], ahora será [negra, blanca]\n",
    "def flip_data(x,y):\n",
    "    x=np.flip(x,axis=1)\n",
    "    y=-y+1\n",
    "    return x,y"
   ]
  },
  {
   "cell_type": "code",
   "execution_count": 7,
   "metadata": {},
   "outputs": [],
   "source": [
    "a=np.array([1,2,3])\n",
    "b=np.array([4,5,6])"
   ]
  },
  {
   "cell_type": "code",
   "execution_count": 8,
   "metadata": {},
   "outputs": [],
   "source": [
    "x,y=merge_data(a,b)"
   ]
  },
  {
   "cell_type": "code",
   "execution_count": 9,
   "metadata": {},
   "outputs": [
    {
     "data": {
      "text/plain": [
       "array([[1, 4],\n",
       "       [5, 2],\n",
       "       [6, 3]])"
      ]
     },
     "execution_count": 9,
     "metadata": {},
     "output_type": "execute_result"
    }
   ],
   "source": [
    "x"
   ]
  },
  {
   "cell_type": "code",
   "execution_count": 10,
   "metadata": {},
   "outputs": [
    {
     "data": {
      "text/plain": [
       "array([[1],\n",
       "       [0],\n",
       "       [0]])"
      ]
     },
     "execution_count": 10,
     "metadata": {},
     "output_type": "execute_result"
    }
   ],
   "source": [
    "y"
   ]
  },
  {
   "cell_type": "code",
   "execution_count": 11,
   "metadata": {},
   "outputs": [],
   "source": [
    "x,y=flip_data(x,y)"
   ]
  },
  {
   "cell_type": "code",
   "execution_count": 12,
   "metadata": {},
   "outputs": [
    {
     "data": {
      "text/plain": [
       "array([[4, 1],\n",
       "       [2, 5],\n",
       "       [3, 6]])"
      ]
     },
     "execution_count": 12,
     "metadata": {},
     "output_type": "execute_result"
    }
   ],
   "source": [
    "x"
   ]
  },
  {
   "cell_type": "code",
   "execution_count": 13,
   "metadata": {},
   "outputs": [
    {
     "data": {
      "text/plain": [
       "array([[0],\n",
       "       [1],\n",
       "       [1]])"
      ]
     },
     "execution_count": 13,
     "metadata": {},
     "output_type": "execute_result"
    }
   ],
   "source": [
    "y"
   ]
  },
  {
   "cell_type": "code",
   "execution_count": 14,
   "metadata": {},
   "outputs": [
    {
     "data": {
      "text/plain": [
       "array([4, 5, 6])"
      ]
     },
     "execution_count": 14,
     "metadata": {},
     "output_type": "execute_result"
    }
   ],
   "source": [
    "b"
   ]
  },
  {
   "cell_type": "code",
   "execution_count": 15,
   "metadata": {},
   "outputs": [
    {
     "data": {
      "text/plain": [
       "array([6, 4, 5])"
      ]
     },
     "execution_count": 15,
     "metadata": {},
     "output_type": "execute_result"
    }
   ],
   "source": [
    "np.roll(b,1)"
   ]
  },
  {
   "cell_type": "code",
   "execution_count": null,
   "metadata": {},
   "outputs": [],
   "source": [
    "a=[1,2,3]\n",
    "all_random_permutation(a)"
   ]
  }
 ],
 "metadata": {
  "kernelspec": {
   "display_name": "Python 3",
   "language": "python",
   "name": "python3"
  },
  "language_info": {
   "codemirror_mode": {
    "name": "ipython",
    "version": 3
   },
   "file_extension": ".py",
   "mimetype": "text/x-python",
   "name": "python",
   "nbconvert_exporter": "python",
   "pygments_lexer": "ipython3",
   "version": "3.8.6"
  }
 },
 "nbformat": 4,
 "nbformat_minor": 4
}
