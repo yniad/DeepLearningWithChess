{
 "cells": [
  {
   "cell_type": "code",
   "execution_count": 1,
   "metadata": {},
   "outputs": [],
   "source": [
    "import numpy as np\n",
    "import pickle\n",
    "import tensorflow as tf\n",
    "import sys\n",
    "\n",
    "gpus = tf.config.experimental.list_physical_devices('GPU')\n",
    "tf.config.experimental.set_memory_growth(gpus[0], True)\n",
    "\n",
    "from tensorflow.keras import layers, losses\n",
    "from tensorflow.keras.models import Model, load_model\n",
    "\n",
    "from itertools import permutations "
   ]
  },
  {
   "cell_type": "code",
   "execution_count": 2,
   "metadata": {},
   "outputs": [],
   "source": [
    "def train_per_files(eva,path,player,idw,idb):\n",
    "    white=load_files(path,player,'w',idw)\n",
    "    black=load_files(path,player,'b',idb)\n",
    "    total=1\n",
    "    for i in range(total):\n",
    "        x,y=merge_data(white,black)\n",
    "        x,y=shuffle_data(x,y)\n",
    "        x_train,x_test,y_train,y_test=split_data(x,y)\n",
    "        eva.fit(x_train, y_train,batch_size=100, epochs=1,validation_data=(x_test,y_test),verbose=0)\n",
    "        x_train,y_train=flip_data(x_train,y_train)\n",
    "        x_test,y_test=flip_data(x_test,y_test)\n",
    "        res=eva.fit(x_train, y_train,batch_size=100, epochs=1,validation_data=(x_test,y_test),verbose=0)\n",
    "        black = np.roll(black,1)\n",
    "    return eva,res.history['val_accuracy'][-1]"
   ]
  },
  {
   "cell_type": "code",
   "execution_count": 3,
   "metadata": {},
   "outputs": [],
   "source": [
    "%run  RandomIndex.ipynb\n",
    "np.random.seed(1)"
   ]
  },
  {
   "cell_type": "code",
   "execution_count": 4,
   "metadata": {},
   "outputs": [
    {
     "name": "stdout",
     "output_type": "stream",
     "text": [
      "Model: \"sequential\"\n",
      "_________________________________________________________________\n",
      "Layer (type)                 Output Shape              Param #   \n",
      "=================================================================\n",
      "conv2d (Conv2D)              (None, 2, 4, 4, 256)      32256     \n",
      "_________________________________________________________________\n",
      "conv2d_1 (Conv2D)            (None, 2, 2, 2, 64)       147520    \n",
      "_________________________________________________________________\n",
      "flatten (Flatten)            (None, 512)               0         \n",
      "_________________________________________________________________\n",
      "dense (Dense)                (None, 256)               131328    \n",
      "_________________________________________________________________\n",
      "dense_1 (Dense)              (None, 1)                 257       \n",
      "=================================================================\n",
      "Total params: 311,361\n",
      "Trainable params: 311,361\n",
      "Non-trainable params: 0\n",
      "_________________________________________________________________\n"
     ]
    }
   ],
   "source": [
    "eva = tf.keras.Sequential([\n",
    "      layers.Input(shape=(2, 8, 8, 5)), \n",
    "      layers.Conv2D(256, (5,5), activation='relu', padding='same', strides=2),\n",
    "      layers.Conv2D(64, (3,3), activation='relu', padding='same', strides=2),\n",
    "      layers.Flatten(),\n",
    "      layers.Dense(256, activation='sigmoid'),\n",
    "      layers.Dense(1, activation='sigmoid')])\n",
    "      #layers.Conv2D(2, kernel_size=(3,3), activation='sigmoid', padding='same')])\n",
    "eva.compile(optimizer='SGD', loss='binary_crossentropy',metrics=['accuracy'])\n",
    "eva.summary()"
   ]
  },
  {
   "cell_type": "raw",
   "metadata": {},
   "source": [
    "eva = load_model('black_nn.h5')\n",
    "eva.summary()"
   ]
  },
  {
   "cell_type": "code",
   "execution_count": 5,
   "metadata": {},
   "outputs": [],
   "source": [
    "path='pgn/'"
   ]
  },
  {
   "cell_type": "code",
   "execution_count": 6,
   "metadata": {},
   "outputs": [],
   "source": [
    "with open('pm_b.pkl', 'rb') as infile:\n",
    "        perm = np.array(pickle.load(infile))"
   ]
  },
  {
   "cell_type": "code",
   "execution_count": null,
   "metadata": {},
   "outputs": [
    {
     "name": "stdout",
     "output_type": "stream",
     "text": [
      "\n",
      "Ciclo: 0\n",
      " p 1000/22500:30,30 Accuracy= 0.8022000193595886            \n",
      "\n",
      "rs_b_1.pkl\n",
      " p 2000/22500:54,34 Accuracy= 0.8119999766349792             \n",
      "\n",
      "rs_b_2.pkl\n",
      " p 3000/22500:33,111 Accuracy= 0.8529999852180481            \n",
      "\n",
      "rs_b_3.pkl\n",
      " p 4000/22500:5,43 Accuracy= 0.8601999878883362              \n",
      "\n",
      "rs_b_4.pkl\n",
      " p 5000/22500:14,127 Accuracy= 0.8802000284194946            \n",
      "\n",
      "rs_b_5.pkl\n",
      " p 6000/22500:3,9 Accuracy= 0.8450000286102295               \n",
      "\n",
      "rs_b_6.pkl\n",
      " p 7000/22500:59,98 Accuracy= 0.868399977684021              \n",
      "\n",
      "rs_b_7.pkl\n",
      " p 8000/22500:8,136 Accuracy= 0.8912000060081482             \n",
      "\n",
      "rs_b_8.pkl\n",
      " p 9000/22500:13,120 Accuracy= 0.8917999863624573            \n",
      "\n",
      "rs_b_9.pkl\n",
      " p 10000/22500:87,119 Accuracy= 0.8820000290870667           \n",
      "\n",
      "rs_b_10.pkl\n",
      " p 11000/22500:123,27 Accuracy= 0.8601999878883362            \n",
      "\n",
      "rs_b_11.pkl\n",
      " p 12000/22500:120,86 Accuracy= 0.8586000204086304            \n",
      "\n",
      "rs_b_12.pkl\n",
      " p 13000/22500:50,84 Accuracy= 0.8550000190734863             \n",
      "\n",
      "rs_b_13.pkl\n",
      " p 14000/22500:119,92 Accuracy= 0.8650000095367432            \n",
      "\n",
      "rs_b_14.pkl\n",
      " p 15000/22500:144,2 Accuracy= 0.885200023651123              \n",
      "\n",
      "rs_b_15.pkl\n",
      " p 16000/22500:70,141 Accuracy= 0.8827999830245972            \n",
      "\n",
      "rs_b_16.pkl\n",
      " p 17000/22500:116,128 Accuracy= 0.8841999769210815           \n",
      "\n",
      "rs_b_17.pkl\n",
      " p 18000/22500:126,109 Accuracy= 0.9093999862670898           \n",
      "\n",
      "rs_b_18.pkl\n",
      " p 19000/22500:49,106 Accuracy= 0.8838000297546387            \n",
      "\n",
      "rs_b_19.pkl\n",
      " p 20000/22500:4,81 Accuracy= 0.8805999755859375              \n",
      "\n",
      "rs_b_20.pkl\n",
      " p 21000/22500:109,27 Accuracy= 0.8899999856948853            \n",
      "\n",
      "rs_b_21.pkl\n",
      " p 22000/22500:9,122 Accuracy= 0.9218000173568726             \n",
      "\n",
      "rs_b_22.pkl\n",
      " p 22499/22500:1,85 Accuracy= 0.8823999762535095              \n",
      "Ciclo: 1\n",
      " p 1000/22500:30,30 Accuracy= 0.8784000277519226            \n",
      "\n",
      "rs_b_1.pkl\n",
      " p 2000/22500:54,34 Accuracy= 0.8766000270843506             \n",
      "\n",
      "rs_b_2.pkl\n",
      " p 3000/22500:33,111 Accuracy= 0.9056000113487244            \n",
      "\n",
      "rs_b_3.pkl\n",
      " p 4000/22500:5,43 Accuracy= 0.8974000215530396              \n",
      "\n",
      "rs_b_4.pkl\n",
      " p 5000/22500:14,127 Accuracy= 0.9136000275611877            \n",
      "\n",
      "rs_b_5.pkl\n",
      " p 6000/22500:3,9 Accuracy= 0.8715999722480774               \n",
      "\n",
      "rs_b_6.pkl\n",
      " p 7000/22500:59,98 Accuracy= 0.8966000080108643             \n",
      "\n",
      "rs_b_7.pkl\n",
      " p 8000/22500:8,136 Accuracy= 0.9150000214576721             \n",
      "\n",
      "rs_b_8.pkl\n",
      " p 9000/22500:13,120 Accuracy= 0.9046000242233276            \n",
      "\n",
      "rs_b_9.pkl\n",
      " p 10000/22500:87,119 Accuracy= 0.9031999707221985           \n",
      "\n",
      "rs_b_10.pkl\n",
      " p 11000/22500:123,27 Accuracy= 0.8862000107765198            \n",
      "\n",
      "rs_b_11.pkl\n",
      " p 12000/22500:120,86 Accuracy= 0.8817999958992004            \n",
      "\n",
      "rs_b_12.pkl\n",
      " p 13000/22500:50,84 Accuracy= 0.8777999877929688             \n",
      "\n",
      "rs_b_13.pkl\n",
      " p 14000/22500:119,92 Accuracy= 0.8855999708175659            \n",
      "\n",
      "rs_b_14.pkl\n",
      " p 15000/22500:144,2 Accuracy= 0.8956000208854675             \n",
      "\n",
      "rs_b_15.pkl\n",
      " p 16000/22500:70,141 Accuracy= 0.902999997138977             \n",
      "\n",
      "rs_b_16.pkl\n",
      " p 17000/22500:116,128 Accuracy= 0.890999972820282            \n",
      "\n",
      "rs_b_17.pkl\n",
      " p 18000/22500:126,109 Accuracy= 0.9169999957084656           \n",
      "\n",
      "rs_b_18.pkl\n",
      " p 19000/22500:49,106 Accuracy= 0.9010000228881836            \n",
      "\n",
      "rs_b_19.pkl\n",
      " p 20000/22500:4,81 Accuracy= 0.8980000019073486              \n",
      "\n",
      "rs_b_20.pkl\n",
      " p 20645/22500:41,84 Accuracy= 0.9034000039100647             "
     ]
    }
   ],
   "source": [
    "\n",
    "player='b' #jugador en turno blancas\n",
    "total=len(perm)\n",
    "for ciclos in range(8):\n",
    "    cont=0\n",
    "    print(f'\\nCiclo: {ciclos}')\n",
    "    for p in perm:\n",
    "        i=p[0]\n",
    "        j=p[1]\n",
    "        \n",
    "        eva,acc=train_per_files(eva,path,player,i,j)\n",
    "        sys.stdout.write(f'\\r p {cont}/{total}:{i},{j} Accuracy= {acc}           ')\n",
    "        sys.stdout.flush()\n",
    "        cont+=1\n",
    "        if cont%1000==0:\n",
    "            print(f'\\r p {cont}/{total}:{i},{j} Accuracy= {acc} ')\n",
    "            eva.save('black_nn_'+str(cont//1000)+'.h5')\n",
    "            rand_state = np.random.get_state()\n",
    "            name='rs_b_'+str(cont//1000)+'.pkl'\n",
    "            with open(name, 'wb') as outfile:\n",
    "                    pickle.dump(rand_state, outfile, pickle.HIGHEST_PROTOCOL)\n",
    "            print(f'\\n{name}')"
   ]
  },
  {
   "cell_type": "code",
   "execution_count": null,
   "metadata": {},
   "outputs": [],
   "source": [
    "eva.save('black_nn.h5')"
   ]
  },
  {
   "cell_type": "code",
   "execution_count": null,
   "metadata": {},
   "outputs": [],
   "source": [
    "new_model = load_model(black_nn.h5')\n",
    "new_model.summary()"
   ]
  },
  {
   "cell_type": "code",
   "execution_count": null,
   "metadata": {},
   "outputs": [],
   "source": []
  },
  {
   "cell_type": "code",
   "execution_count": null,
   "metadata": {},
   "outputs": [],
   "source": []
  },
  {
   "cell_type": "raw",
   "metadata": {},
   "source": [
    "a=list(range(150))\n",
    "perm = all_random_permutation(a)\n",
    "name='pm_b.pkl'\n",
    "with open(name, 'wb') as outfile:\n",
    "        pickle.dump(perm, outfile, pickle.HIGHEST_PROTOCOL)\n",
    "print(name)"
   ]
  },
  {
   "cell_type": "code",
   "execution_count": null,
   "metadata": {},
   "outputs": [],
   "source": [
    "perm.shape"
   ]
  },
  {
   "cell_type": "code",
   "execution_count": null,
   "metadata": {},
   "outputs": [],
   "source": []
  }
 ],
 "metadata": {
  "kernelspec": {
   "display_name": "Python 3",
   "language": "python",
   "name": "python3"
  },
  "language_info": {
   "codemirror_mode": {
    "name": "ipython",
    "version": 3
   },
   "file_extension": ".py",
   "mimetype": "text/x-python",
   "name": "python",
   "nbconvert_exporter": "python",
   "pygments_lexer": "ipython3",
   "version": "3.8.6"
  }
 },
 "nbformat": 4,
 "nbformat_minor": 4
}
