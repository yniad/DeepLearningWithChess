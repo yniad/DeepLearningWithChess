{
 "cells": [
  {
   "cell_type": "code",
   "execution_count": 1,
   "metadata": {},
   "outputs": [],
   "source": [
    "import numpy as np\n",
    "import tensorflow as tf\n",
    "import operator\n",
    "import math\n",
    "\n",
    "#Las siguientes 2 lineas son para ocupar la GPU\n",
    "gpus = tf.config.experimental.list_physical_devices('GPU')\n",
    "tf.config.experimental.set_memory_growth(gpus[0], True)\n",
    "\n",
    "from tensorflow.keras.models import Model, load_model\n",
    "import chess\n",
    "import chess.pgn"
   ]
  },
  {
   "cell_type": "code",
   "execution_count": 2,
   "metadata": {},
   "outputs": [],
   "source": [
    "class MCTSNode:\n",
    "    def __init__(self, game_state, parent=None, move=None):\n",
    "        self.game_state = game_state\n",
    "        self.parent = parent\n",
    "        self.move = move\n",
    "        self.white=0\n",
    "        self.black=1\n",
    "        self.win_counts = {\n",
    "            self.white: 0,\n",
    "            self.black: 0,\n",
    "        }\n",
    "        self.num_rollouts = 0\n",
    "        self.children = []\n",
    "        self.unvisited_moves = list(game_state.legal_moves)\n",
    "# end::mcts-node[]\n",
    "\n",
    "# tag::mcts-add-child[]\n",
    "    def add_random_child(self):\n",
    "        index = np.random.randint(len(self.unvisited_moves))\n",
    "        new_move = self.unvisited_moves.pop(index)#Pop elimina el elemento del arreglo\n",
    "        new_game_state = self.game_state.copy()\n",
    "        new_game_state.push(new_move)\n",
    "        new_node = MCTSNode(new_game_state, self, new_move)\n",
    "        self.children.append(new_node)\n",
    "        return new_node\n",
    "# end::mcts-add-child[]\n",
    "\n",
    "# tag::mcts-record-win[]\n",
    "    def record_win(self, winner):\n",
    "        self.win_counts[self.white] += winner[0]\n",
    "        self.win_counts[self.black] += winner[0]\n",
    "        self.num_rollouts += 1\n",
    "# end::mcts-record-win[]\n",
    "\n",
    "# tag::mcts-readers[]\n",
    "    def can_add_child(self):\n",
    "        return len(self.unvisited_moves) > 0\n",
    "\n",
    "    def is_terminal(self):\n",
    "        return self.game_state.is_game_over()\n",
    "\n",
    "    def winning_frac(self, player):\n",
    "        if player:\n",
    "            return float(self.win_counts[self.white]) / float(self.num_rollouts)\n",
    "        else:\n",
    "            return float(self.win_counts[self.black]) / float(self.num_rollouts)\n",
    "# end::mcts-readers[]\n",
    "\n",
    "class MCTSBot:\n",
    "    def __init__(self, num_rounds, temperature):\n",
    "        self.num_rounds = num_rounds\n",
    "        self.temperature = temperature\n",
    "        pw=\"white_nn.h5\"\n",
    "        pb=\"black_nn.h5\"\n",
    "        self.blancas = DeepBot(pw)\n",
    "        self.negras = DeepBot(pb)\n",
    "        \n",
    "# tag::mcts-signature[]\n",
    "    def select_move(self, game_state):\n",
    "        root = MCTSNode(game_state)\n",
    "# end::mcts-signature[]\n",
    "\n",
    "# tag::mcts-rounds[]\n",
    "        print(\"\\n\")\n",
    "        for i in range(self.num_rounds):\n",
    "            print(i,end=\" \")\n",
    "            node = root\n",
    "            while (not node.can_add_child()) and (not node.is_terminal()):\n",
    "                node = self.select_child(node)\n",
    "\n",
    "            # Add a new child node into the tree.\n",
    "            if node.can_add_child():\n",
    "                node = node.add_random_child()\n",
    "\n",
    "            # Simulate a random game from this node.\n",
    "            winner = self.simulate_random_game(node.game_state.copy())\n",
    "\n",
    "            # Propagate scores back up the tree.\n",
    "            while node is not None:\n",
    "                node.record_win(winner)\n",
    "                node = node.parent\n",
    "# end::mcts-rounds[]\n",
    "\n",
    "        scored_moves = [\n",
    "            (child.winning_frac(game_state.turn), child.move, child.num_rollouts)\n",
    "            for child in root.children\n",
    "        ]\n",
    "        scored_moves.sort(key=lambda x: x[0], reverse=True)\n",
    "        for s, m, n in scored_moves[:10]:\n",
    "            print('%s - %.3f (%d)' % (m, s, n))\n",
    "\n",
    "# tag::mcts-selection[]\n",
    "        # Having performed as many MCTS rounds as we have time for, we\n",
    "        # now pick a move.\n",
    "        best_move = None\n",
    "        best_pct = -1.0\n",
    "        for child in root.children:\n",
    "            child_pct = child.winning_frac(game_state.turn)\n",
    "            if child_pct > best_pct:\n",
    "                best_pct = child_pct\n",
    "                best_move = child.move\n",
    "        print('Select move %s with win pct %.3f' % (best_move, best_pct))\n",
    "        #show_tree(root,max_depth=10)\n",
    "        return best_move\n",
    "# end::mcts-selection[]\n",
    "\n",
    "# tag::mcts-uct[]\n",
    "    def select_child(self, node):\n",
    "        \"\"\"Select a child according to the upper confidence bound for\n",
    "        trees (UCT) metric.\n",
    "        \"\"\"\n",
    "\n",
    "        #Calcula N(v)\n",
    "        total_rollouts = sum(child.num_rollouts for child in node.children)\n",
    "        log_rollouts = math.log(total_rollouts)\n",
    "\n",
    "        best_score = -1\n",
    "        best_child = None\n",
    "        # Loop over each child.\n",
    "        #Calcula UTC(j)\n",
    "        for child in node.children:\n",
    "            # Calculate the UCT score.\n",
    "            win_percentage = child.winning_frac(node.game_state.turn)\n",
    "            exploration_factor = math.sqrt(log_rollouts / child.num_rollouts)\n",
    "            uct_score = win_percentage + self.temperature * exploration_factor\n",
    "            # Check if this is the largest we've seen so far.\n",
    "            if uct_score > best_score:\n",
    "                best_score = uct_score\n",
    "                best_child = child\n",
    "        return best_child\n",
    "    \n",
    "    def evaluar(self,b):\n",
    "        mapeo={\n",
    "            'r':5.63,\n",
    "            'n':3.05,\n",
    "            'b':3.33,\n",
    "            'q':9.5,\n",
    "            'p':1,\n",
    "        }\n",
    "        b=str(b).replace('\\n','').replace(' ','').replace('.','').replace('k','').replace('K','')\n",
    "        white=10\n",
    "        black=10\n",
    "        for i in b:\n",
    "            if i.islower():\n",
    "                black+=mapeo[i]\n",
    "            else:\n",
    "                white+=mapeo[i.lower()]\n",
    "        return [round(white/(white+black),5),round(black/(white+black),5)]\n",
    "\n",
    "    def simulate_random_game(self,board):\n",
    "        board = chess.Board()\n",
    "        blancas = self.blancas\n",
    "        negras = self.negras\n",
    "        while not board.is_game_over():\n",
    "            move=blancas.select_move(board)[0][0]\n",
    "            board.push(move)\n",
    "            if not board.is_game_over():\n",
    "                move=negras.select_move(board)[0][0]\n",
    "                board.push(move)\n",
    "        game.headers[\"Result\"] = board.result()        \n",
    "        s=board.result()\n",
    "        if '1/2' in s:\n",
    "            return self.evaluar(board)\n",
    "        else:\n",
    "            return [int(s[0]),int(s[2])]"
   ]
  },
  {
   "cell_type": "code",
   "execution_count": 3,
   "metadata": {},
   "outputs": [],
   "source": [
    "def codificar(board):\n",
    "    WHITE=True\n",
    "    b=str(board).replace(' ','').split('\\n')\n",
    "    a=np.zeros([8,8,5],dtype=np.uint8)\n",
    "    mapeo={\n",
    "        '.':[0,0,0,0,0],\n",
    "        'r':[0,1,0,0,1],\n",
    "        'n':[0,1,0,1,0],\n",
    "        'b':[0,1,0,1,1],\n",
    "        'q':[0,1,1,0,0],\n",
    "        'k':[0,1,1,0,1],\n",
    "        'p':[0,1,1,1,0],\n",
    "        'R':[1,0,0,0,1],\n",
    "        'N':[1,0,0,1,0],\n",
    "        'B':[1,0,0,1,1],\n",
    "        'Q':[1,0,1,0,0],\n",
    "        'K':[1,0,1,0,1],\n",
    "        'P':[1,0,1,1,0],\n",
    "    }\n",
    "    for i,row in enumerate(b):\n",
    "        for j,val in enumerate(row):\n",
    "            if val=='.':\n",
    "                continue\n",
    "            a[i,j,:]=mapeo[val]\n",
    "    return a"
   ]
  },
  {
   "cell_type": "code",
   "execution_count": 4,
   "metadata": {},
   "outputs": [],
   "source": [
    "#funcion para ordenar un diccionario por su valor de mayor a menor\n",
    "def order(x):\n",
    "    return  {k: v for k, v in sorted(x.items(), key=lambda item: item[1], reverse=True)}"
   ]
  },
  {
   "cell_type": "code",
   "execution_count": 5,
   "metadata": {},
   "outputs": [],
   "source": [
    "def weights(x):\n",
    "    l=len(x)\n",
    "    a=(np.arange(l)+1)/l\n",
    "    return tuple(zip(list(x.keys()),a))\n",
    "    "
   ]
  },
  {
   "cell_type": "code",
   "execution_count": 6,
   "metadata": {},
   "outputs": [],
   "source": [
    "class DeepBot:\n",
    "    def __init__(self,path_model):\n",
    "        self.eva = load_model(path_model)\n",
    "        #self.eva.summary()\n",
    "    \n",
    "    def select_move(self,board):\n",
    "        moves=list(board.legal_moves)\n",
    "        \n",
    "        if len(moves)>1:\n",
    "            code_moves=np.zeros([len(moves)*(len(moves)-1),2,8,8,5])\n",
    "            value=[['xxxxx']*2]*(len(moves)*(len(moves)-1))\n",
    "            rank={}\n",
    "            i=0\n",
    "            for m in moves:\n",
    "                value[i]=0\n",
    "                board.push(m)\n",
    "                b1=codificar(board)\n",
    "                board.pop()\n",
    "                for n in moves:\n",
    "                    if m!=n:\n",
    "                        board.push(n)\n",
    "                        b2=codificar(board)\n",
    "                        board.pop()\n",
    "                        b=np.array([b1,b2])\n",
    "                        b=b.reshape([2,8,8,5])\n",
    "                        code_moves[i,:]=b\n",
    "                        value[i]=[m,n]\n",
    "                        i+=1\n",
    "\n",
    "            predict=self.eva.predict(code_moves)\n",
    "            if board.turn: #turno de las blancas\n",
    "                for i,pair in enumerate(value):\n",
    "                    if predict[i]>0.5: #para las blancas >0.5 significa que el tablero de la izquierda es mejor\n",
    "                        if pair[0] in rank:\n",
    "                            rank[pair[0]]+=1\n",
    "                        else:\n",
    "                            rank[pair[0]]=1\n",
    "                    else:\n",
    "                        if pair[1] in rank:\n",
    "                            rank[pair[1]]+=1\n",
    "                        else:\n",
    "                            rank[pair[1]]=1\n",
    "            else:\n",
    "                for i,pair in enumerate(value):\n",
    "                    if predict[i]>0.5:\n",
    "                        if pair[1] in rank:\n",
    "                            rank[pair[1]]+=1\n",
    "                        else:\n",
    "                            rank[pair[1]]=1\n",
    "                    else:\n",
    "                        if pair[0] in rank:\n",
    "                            rank[pair[0]]+=1\n",
    "                        else:\n",
    "                            rank[pair[0]]=1\n",
    "            w=weights(order(rank))\n",
    "        else:\n",
    "            a=(moves[0],1)\n",
    "            w=[a]\n",
    "\n",
    "        return w\n",
    "        "
   ]
  },
  {
   "cell_type": "code",
   "execution_count": 7,
   "metadata": {},
   "outputs": [],
   "source": [
    "class RandomBot:\n",
    "        \n",
    "    def select_move(self,board):\n",
    "        moves=list(board.legal_moves)\n",
    "        return moves[np.random.randint(len(moves))]"
   ]
  },
  {
   "cell_type": "code",
   "execution_count": 8,
   "metadata": {},
   "outputs": [
    {
     "data": {
      "text/plain": [
       "Move.from_uci('c2c4')"
      ]
     },
     "execution_count": 8,
     "metadata": {},
     "output_type": "execute_result"
    }
   ],
   "source": [
    "pw=\"white_nn.h5\"\n",
    "board = chess.Board()\n",
    "blancas = DeepBot(pw)\n",
    "move=blancas.select_move(board)[0][0]\n",
    "move"
   ]
  },
  {
   "cell_type": "code",
   "execution_count": 9,
   "metadata": {},
   "outputs": [],
   "source": [
    "board = chess.Board()\n",
    "blancas = MCTSBot(10, temperature=1.4)\n",
    "negras = RandomBot()\n",
    "\n",
    "\n",
    "game = chess.pgn.Game()\n",
    "game.headers[\"White\"] = \"DeepBot\"\n",
    "game.headers[\"Black\"] = \"RandomBot\"\n",
    "game.setup(board)  # Not required for the standard\n",
    "                   # starting position.\n",
    "\n",
    "node = game\n"
   ]
  },
  {
   "cell_type": "code",
   "execution_count": 10,
   "metadata": {},
   "outputs": [
    {
     "name": "stdout",
     "output_type": "stream",
     "text": [
      "\n",
      "\n",
      "0 1 2 3 4 5 6 7 8 9 a2a4 - 1.000 (1)\n",
      "g2g3 - 1.000 (1)\n",
      "c2c4 - 1.000 (1)\n",
      "e2e3 - 1.000 (1)\n",
      "g2g4 - 1.000 (1)\n",
      "b1c3 - 1.000 (1)\n",
      "b2b4 - 1.000 (1)\n",
      "b2b3 - 1.000 (1)\n",
      "e2e4 - 1.000 (1)\n",
      "c2c3 - 1.000 (1)\n",
      "Select move a2a4 with win pct 1.000\n"
     ]
    },
    {
     "data": {
      "text/plain": [
       "Move.from_uci('a2a4')"
      ]
     },
     "execution_count": 10,
     "metadata": {},
     "output_type": "execute_result"
    }
   ],
   "source": [
    "blancas.select_move(board)"
   ]
  },
  {
   "cell_type": "code",
   "execution_count": 11,
   "metadata": {},
   "outputs": [
    {
     "name": "stdout",
     "output_type": "stream",
     "text": [
      "\n",
      "\n",
      "0 1 2 3 4 5 6 7 8 9 c2c4 - 1.000 (1)\n",
      "a2a3 - 1.000 (1)\n",
      "g1h3 - 1.000 (1)\n",
      "d2d4 - 1.000 (1)\n",
      "f2f4 - 1.000 (1)\n",
      "b1c3 - 1.000 (1)\n",
      "h2h4 - 1.000 (1)\n",
      "h2h3 - 1.000 (1)\n",
      "g2g4 - 1.000 (1)\n",
      "f2f3 - 1.000 (1)\n",
      "Select move c2c4 with win pct 1.000\n"
     ]
    },
    {
     "ename": "TypeError",
     "evalue": "'Move' object is not subscriptable",
     "output_type": "error",
     "traceback": [
      "\u001b[1;31m---------------------------------------------------------------------------\u001b[0m",
      "\u001b[1;31mTypeError\u001b[0m                                 Traceback (most recent call last)",
      "\u001b[1;32m<ipython-input-11-7c17468c7024>\u001b[0m in \u001b[0;36m<module>\u001b[1;34m\u001b[0m\n\u001b[1;32m----> 1\u001b[1;33m \u001b[0mboard\u001b[0m\u001b[1;33m.\u001b[0m\u001b[0mpush\u001b[0m\u001b[1;33m(\u001b[0m\u001b[0mblancas\u001b[0m\u001b[1;33m.\u001b[0m\u001b[0mselect_move\u001b[0m\u001b[1;33m(\u001b[0m\u001b[0mboard\u001b[0m\u001b[1;33m)\u001b[0m\u001b[1;33m[\u001b[0m\u001b[1;36m0\u001b[0m\u001b[1;33m]\u001b[0m\u001b[1;33m[\u001b[0m\u001b[1;36m0\u001b[0m\u001b[1;33m]\u001b[0m\u001b[1;33m)\u001b[0m\u001b[1;33m\u001b[0m\u001b[1;33m\u001b[0m\u001b[0m\n\u001b[0m\u001b[0;32m      2\u001b[0m \u001b[0mboard\u001b[0m\u001b[1;33m\u001b[0m\u001b[1;33m\u001b[0m\u001b[0m\n",
      "\u001b[1;31mTypeError\u001b[0m: 'Move' object is not subscriptable"
     ]
    }
   ],
   "source": [
    "board.push(blancas.select_move(board))\n",
    "board"
   ]
  },
  {
   "cell_type": "code",
   "execution_count": null,
   "metadata": {},
   "outputs": [],
   "source": [
    "board.pop()\n",
    "board"
   ]
  },
  {
   "cell_type": "code",
   "execution_count": null,
   "metadata": {},
   "outputs": [],
   "source": [
    "len(list(board.legal_moves))"
   ]
  },
  {
   "cell_type": "code",
   "execution_count": null,
   "metadata": {},
   "outputs": [],
   "source": [
    "while not board.is_game_over():\n",
    "    move=blancas.select_move(board)\n",
    "    board.push(move)\n",
    "    node = node.add_variation(move) # Add game node\n",
    "    if not board.is_game_over():\n",
    "        move=negras.select_move(board)\n",
    "        board.push(move)\n",
    "        node = node.add_variation(move) # Add game node\n",
    "game.headers[\"Result\"] = board.result()        \n",
    "board.result()\n"
   ]
  },
  {
   "cell_type": "code",
   "execution_count": null,
   "metadata": {},
   "outputs": [],
   "source": [
    "board\n",
    "    "
   ]
  },
  {
   "cell_type": "code",
   "execution_count": null,
   "metadata": {},
   "outputs": [],
   "source": [
    "print(game)"
   ]
  },
  {
   "cell_type": "code",
   "execution_count": null,
   "metadata": {},
   "outputs": [],
   "source": [
    "a=['algo']\n",
    "b=1\n",
    "c=dict()\n",
    "c[a[0]]=b\n",
    "c"
   ]
  },
  {
   "cell_type": "code",
   "execution_count": null,
   "metadata": {},
   "outputs": [],
   "source": []
  }
 ],
 "metadata": {
  "kernelspec": {
   "display_name": "Python 3",
   "language": "python",
   "name": "python3"
  },
  "language_info": {
   "codemirror_mode": {
    "name": "ipython",
    "version": 3
   },
   "file_extension": ".py",
   "mimetype": "text/x-python",
   "name": "python",
   "nbconvert_exporter": "python",
   "pygments_lexer": "ipython3",
   "version": "3.8.6"
  }
 },
 "nbformat": 4,
 "nbformat_minor": 4
}
